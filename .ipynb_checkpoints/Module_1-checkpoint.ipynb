{
 "cells": [
  {
   "cell_type": "code",
   "execution_count": 2,
   "id": "bd75ce46-ccb3-4f16-8e47-e7c020484324",
   "metadata": {},
   "outputs": [
    {
     "name": "stdout",
     "output_type": "stream",
     "text": [
      "Rectangle Area Calculator\n",
      "-----------------------\n"
     ]
    },
    {
     "name": "stdin",
     "output_type": "stream",
     "text": [
      "Enter the length of the rectangle:  23\n",
      "Enter the width of the rectangle:  44\n"
     ]
    },
    {
     "name": "stdout",
     "output_type": "stream",
     "text": [
      "\n",
      "Results:\n",
      "Length: 23.0\n",
      "Width: 44.0\n",
      "Area: 1012.0\n"
     ]
    }
   ],
   "source": [
    "def calculate_rectangle_area(length, width):\n",
    "    \"\"\"\n",
    "    Calculate the area of a rectangle.\n",
    "\n",
    "    Parameters:\n",
    "    length (float): The length of the rectangle\n",
    "    width (float): The width of the rectangle\n",
    "\n",
    "    Returns:\n",
    "    float: The area of the rectangle (length * width)\n",
    "    \"\"\"\n",
    "    return length * width\n",
    "\n",
    "\n",
    "def main():\n",
    "    \"\"\"\n",
    "    Main function to handle user input, calculation, and output display.\n",
    "    \n",
    "    Takes length and width inputs from the user, calculates the rectangle's\n",
    "    area using the calculate_rectangle_area function, and displays the\n",
    "    inputs and result.\n",
    "    \"\"\"\n",
    "    # Get user inputs\n",
    "    print(\"Rectangle Area Calculator\")\n",
    "    print(\"-----------------------\")\n",
    "    \n",
    "    try:\n",
    "        length = float(input(\"Enter the length of the rectangle: \"))\n",
    "        width = float(input(\"Enter the width of the rectangle: \"))\n",
    "        \n",
    "        # Validate inputs\n",
    "        if length <= 0 or width <= 0:\n",
    "            print(\"Error: Length and width must be positive numbers.\")\n",
    "            return\n",
    "            \n",
    "        # Calculate area using the function\n",
    "        area = calculate_rectangle_area(length, width)\n",
    "        \n",
    "        # Display inputs and output\n",
    "        print(\"\\nResults:\")\n",
    "        print(f\"Length: {length}\")\n",
    "        print(f\"Width: {width}\")\n",
    "        print(f\"Area: {area}\")\n",
    "        \n",
    "    except ValueError:\n",
    "        print(\"Error: Please enter valid numbers for length and width.\")\n",
    "\n",
    "\n",
    "if __name__ == \"__main__\":\n",
    "    main()"
   ]
  },
  {
   "cell_type": "code",
   "execution_count": null,
   "id": "07f3869f-f5f7-44e7-acf3-92711089e278",
   "metadata": {},
   "outputs": [],
   "source": []
  }
 ],
 "metadata": {
  "kernelspec": {
   "display_name": "Python [conda env:base] *",
   "language": "python",
   "name": "conda-base-py"
  },
  "language_info": {
   "codemirror_mode": {
    "name": "ipython",
    "version": 3
   },
   "file_extension": ".py",
   "mimetype": "text/x-python",
   "name": "python",
   "nbconvert_exporter": "python",
   "pygments_lexer": "ipython3",
   "version": "3.13.5"
  }
 },
 "nbformat": 4,
 "nbformat_minor": 5
}
